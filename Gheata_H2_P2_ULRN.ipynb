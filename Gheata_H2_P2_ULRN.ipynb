{
 "cells": [
  {
   "cell_type": "markdown",
   "metadata": {},
   "source": [
    "# **Handout 2: Unsupervised Learning (Problem 2)**\n",
    "### *Author: Miruna Andreea Gheata*\n",
    "\n",
    "***\n",
    "\n",
    "### Table of Contents\n",
    "   \n",
    "* [1. Function definitions](#first-bullet)\n",
    "   *  [1.1. Plotting functions](#first-first-bullet)\n",
    "   *  [1.2. Clustering functions (General)](#first-second-bullet)\n",
    "   *  [1.3. Clustering functions (Crisp clustering)](#first-third-bullet)\n",
    "   *  [1.4. Clustering functions (Fuzzy clustering)](#first-fourth-bullet)\n",
    "* [2. Loading the data](#second-bullet)\n",
    "* [3. Crisp Clustering](#third-bullet)\n",
    "   *  [3.1. Results](#third-first-bullet)\n",
    "   *  [3.2. Predicted clusters](#third-second-bullet)\n",
    "   *  [3.3. Cost evolution](#third-third-bullet)\n",
    "* [4. Fuzzy Clustering](#fourth-bullet)\n",
    "   *  [4.1. Results](#fourth-first-bullet)\n",
    "   *  [4.2. Predicted clusters](#fourth-second-bullet)\n",
    "   *  [5.3. Cost evolution](#fourth-third-bullet)\n",
    "***\n",
    "\n",
    "\n",
    "In this exercise we will find the clustering of points that form a line. There are 3 clusters in total, and all the \"lines\" are overlapped. Crisp clustering and fuzzy clustering will be applied to the dataset.\n",
    "\n",
    "- **Crisp clustering:** Form of clustering in which each data point can belong to **only one** cluster. \n",
    "\n",
    "- **Fuzzy clustering:** Also referred to as soft clustering or soft k-means, fuzzy clustering is a form of clustering in which each data point can belong to **more than one** cluster."
   ]
  },
  {
   "cell_type": "markdown",
   "metadata": {},
   "source": [
    "### *0.1. Library imports*"
   ]
  },
  {
   "cell_type": "code",
   "execution_count": 1,
   "metadata": {},
   "outputs": [],
   "source": [
    "import math\n",
    "import random\n",
    "import numpy as np\n",
    "import matplotlib.pyplot as plt\n",
    "from copy import deepcopy\n",
    "import sys\n",
    "from sklearn import metrics\n",
    "from sklearn.metrics.cluster import contingency_matrix"
   ]
  },
  {
   "cell_type": "markdown",
   "metadata": {},
   "source": [
    "***"
   ]
  },
  {
   "cell_type": "markdown",
   "metadata": {},
   "source": [
    "## **1. Function definitions** <a class=\"anchor\" id=\"first-bullet\"></a>"
   ]
  },
  {
   "cell_type": "markdown",
   "metadata": {},
   "source": [
    "### **1.1. Plotting functions** <a class=\"anchor\" id=\"first-first-bullet\"></a>"
   ]
  },
  {
   "cell_type": "code",
   "execution_count": 2,
   "metadata": {},
   "outputs": [],
   "source": [
    "def scatter_plot(X, y, title, xlabel, ylabel, miss=None):\n",
    "    '''\n",
    "    Plots the clusters of points. \n",
    "    '''\n",
    "    plt.figure(figsize=(15, 10))\n",
    "    # Plot the points of each cluster\n",
    "    plt.scatter(X[np.where(y == 0)[0]][:, 0], X[np.where(y == 0)[0]][:, 1], marker='+', color='#A2D9CE',\n",
    "                label='class 0')\n",
    "    plt.scatter(X[np.where(y == 1)[0]][:, 0], X[np.where(y == 1)[0]][:, 1], marker='*', color='#3CB371',\n",
    "                label='class 1')\n",
    "    plt.scatter(X[np.where(y == 2)[0]][:, 0], X[np.where(y == 2)[0]][:, 1], marker='.', color='#90CAF9',\n",
    "                label='class 2')\n",
    "    # If miss is passed, plot the missclassified points\n",
    "    if miss:\n",
    "        plt.scatter(X[miss][:, 0], X[miss][:, 1], marker='+', color='#FF0000', label='misclassified')\n",
    "\n",
    "    plt.xlabel(xlabel)\n",
    "    plt.ylabel(ylabel)\n",
    "    plt.axis('equal')\n",
    "    plt.legend()\n",
    "    plt.title(title)\n",
    "    plt.show(block=False)"
   ]
  },
  {
   "cell_type": "code",
   "execution_count": 3,
   "metadata": {},
   "outputs": [],
   "source": [
    "def plot_cost(cost_evolution, mode):\n",
    "    '''\n",
    "    Plots the cost evolution for the given clustering approach (mode = Fuzzy/Crisp).\n",
    "    '''\n",
    "    plt.figure(figsize=(15, 10))\n",
    "    plt.plot(cost_evolution)\n",
    "    plt.title(f\"Cost evolution ({mode} Clustering)\")\n",
    "    plt.ylabel(\"Cost\")\n",
    "    plt.ylim(bottom=0)\n",
    "    plt.show()"
   ]
  },
  {
   "cell_type": "code",
   "execution_count": 4,
   "metadata": {},
   "outputs": [],
   "source": [
    "def plot_predicted_clusters(X, y_pred, u, mode):\n",
    "    '''\n",
    "    Plots the predicted clusters and the missclassified points. \n",
    "    '''\n",
    "    # Get missclassified points. \n",
    "    missclassified = get_misclassified(np.reshape(y_pred, -1))\n",
    "\n",
    "    # Check if missclassified points are correct.\n",
    "    removed_missclassified = check_misclassified(np.reshape(y_pred, -1), missclassified)\n",
    "\n",
    "    # Keep checking until no more points are deleted from the missclassified list of points. \n",
    "    while removed_missclassified:\n",
    "        removed_missclassified = check_misclassified(np.reshape(y_pred, -1), missclassified)\n",
    "        \n",
    "    # Plot the predicted clusters and the missclassified points\n",
    "    scatter_plot(X, y_pred, f\"Classified data points ({mode} Clustering)\\nTotal missclassified: {len(missclassified) + 1}\", \"x\", \"y\", missclassified)"
   ]
  },
  {
   "cell_type": "markdown",
   "metadata": {},
   "source": [
    "### **1.2. Clustering functions (General)** <a class=\"anchor\" id=\"first-second-bullet\"></a>"
   ]
  },
  {
   "cell_type": "code",
   "execution_count": 5,
   "metadata": {},
   "outputs": [],
   "source": [
    "def get_misclassified(pred):\n",
    "    '''\n",
    "    Checks which points have been missclassified in the wrong cluster. Missclassified points are \n",
    "    found by checking whether the neighbors of each point pertain to the same group. The first, \n",
    "    second and third neighbors are checked. \n",
    "    '''\n",
    "    missclassified_idxs = []\n",
    "    for i in range(len(pred) - 1):\n",
    "        if 3 <= i <= (len(pred) - 3):\n",
    "            if ((pred[i - 1] != pred[i]) or (pred[i + 1] != pred[i])) and (\n",
    "                    (pred[i - 2] != pred[i]) or (pred[i + 2] != pred[i])) and (\n",
    "                    (pred[i - 3] != pred[i]) or (pred[i + 3] != pred[i])):\n",
    "                # If neighbors are from a different cluster, this point was missclassified\n",
    "                missclassified_idxs.append(i)\n",
    "    # Returns the list of missclassified points            \n",
    "    return missclassified_idxs\n",
    "\n",
    "def check_misclassified(pred, missclassified):\n",
    "    '''\n",
    "    Method that checks if the missclassified points are correct. It is neccesary to check \n",
    "    the list because in the get_missclassified function points that are in the correct cluster\n",
    "    are marked as missclassified. \n",
    "    '''\n",
    "    # Check if a point was removed \n",
    "    removed = False\n",
    "    for i in missclassified:\n",
    "        if ((pred[i - 1] == pred[i]) or (pred[i + 1] == pred[i])) and (\n",
    "                (pred[i - 2] == pred[i]) or (pred[i + 2] == pred[i])):\n",
    "            # Data point in correct cluster, remove from list\n",
    "            missclassified.remove(i)\n",
    "            # Mark the point as removed\n",
    "            removed = True\n",
    "    # Return wether or not a point was removed from the list of missclassified points\n",
    "    return removed"
   ]
  },
  {
   "cell_type": "code",
   "execution_count": 6,
   "metadata": {},
   "outputs": [],
   "source": [
    "def proximity_function(x1, x2, theta_Mj):\n",
    "    '''\n",
    "    Calculates the distance between a given point to the theta of cluster j.\n",
    "    '''\n",
    "    dist = (math.sin(theta_Mj)**2 * x1**2) \n",
    "    dist = dist + (math.cos(theta_Mj)**2 * x2**2)\n",
    "    dist = dist - 2*math.sin(theta_Mj)*math.cos(theta_Mj)*x1*x2\n",
    "    return dist"
   ]
  },
  {
   "cell_type": "code",
   "execution_count": 7,
   "metadata": {},
   "outputs": [],
   "source": [
    "def get_measures_cluster(y, y_pred):\n",
    "    '''\n",
    "    Returns the V-measure and contingency table of the clustering model.\n",
    "    Note: V-measure: the higher the value, the more correct the prediction is. \n",
    "    '''\n",
    "    model_vmeasure = metrics.v_measure_score(y.reshape(y.shape[0]).tolist(), y_pred.reshape(y_pred.shape[0]).tolist())\n",
    "    print(f\"V-Measure: {model_vmeasure}\")\n",
    "    print(f\"Contingency matrix:\\n{contingency_matrix(y.reshape(y.shape[0]).tolist(), y_pred.reshape(y_pred.shape[0]).tolist())}\")"
   ]
  },
  {
   "cell_type": "markdown",
   "metadata": {},
   "source": [
    "### **1.3. Clustering functions (Crisp clustering)** <a class=\"anchor\" id=\"first-third-bullet\"></a>"
   ]
  },
  {
   "cell_type": "markdown",
   "metadata": {},
   "source": [
    "The cost can be calulated by applying the next formula: \n",
    "\n",
    "$J(X;U,\\theta)= \\sum_{j =0}^N \\sum_{j =0}^M u_{ij}\\varphi(x_i, \\theta_j)$"
   ]
  },
  {
   "cell_type": "code",
   "execution_count": 8,
   "metadata": {},
   "outputs": [],
   "source": [
    "def compute_cost_crisp(X, u, theta_M):\n",
    "    '''\n",
    "    Computes the cost of the crisp clustering.\n",
    "    '''\n",
    "    cost = 0\n",
    "    # For every data point\n",
    "    for i in range(X.shape[0]):\n",
    "        # For all clusters \n",
    "        for j in range(theta_M.shape[0]):\n",
    "            # Get the cost of the clustering made for point X[i]\n",
    "            prox = u[i][j] * proximity_function(X[i, 0], X[i, 1], theta_M[j])\n",
    "            cost = cost + prox\n",
    "    # Return the total cost\n",
    "    return cost"
   ]
  },
  {
   "cell_type": "markdown",
   "metadata": {},
   "source": [
    "The updated value of $\\theta(j)$ can be calculated with the next formula:\n",
    "\n",
    "$\\theta_j = \\frac{1}{2}\\tan^{-1}\\frac{2\\sum_{i = 1}^N u_{ij}x_{i1}x_{i2}}{\\sum_{i = 1}^N u_{ij}(x_{i1}^2 - x_{i2}^2)}$"
   ]
  },
  {
   "cell_type": "code",
   "execution_count": 9,
   "metadata": {},
   "outputs": [],
   "source": [
    "def compute_thetaj_crisp(u, j, X):\n",
    "    '''\n",
    "    Updates the values for the thetas of each cluster by looking at the clustering made.\n",
    "    '''\n",
    "    num = 0\n",
    "    den = 0\n",
    "    for i in range(0, X.shape[0]):\n",
    "        num = num + (u[i][j] * X[i, 0] * X[i, 1])\n",
    "        den = den + (u[i][j] * (X[i, 0] ** 2 - X[i, 1] ** 2))\n",
    "    num *= 2\n",
    "\n",
    "    return 0.5 * math.atan2(num, den)"
   ]
  },
  {
   "cell_type": "code",
   "execution_count": 10,
   "metadata": {},
   "outputs": [],
   "source": [
    "def assign_cluster_crisp(i, j, u, X, theta_M):\n",
    "    '''\n",
    "    Assigns a cluster to a given data point by checking if the distance\n",
    "    to theta_j is the smallest out of all the distances to the clusters.\n",
    "    '''\n",
    "    list_proxs = []\n",
    "    # Create list of distances of point X to all the clusters\n",
    "    for idx_cluster in range(len(theta_M)):\n",
    "        list_proxs.append(proximity_function(X[i, 0], X[i, 1], theta_M[idx_cluster]))\n",
    "    # If the index of the smallest value of the list of distances is equal to j,\n",
    "    # the points belongs to cluster j. Assign u[i, j] = 1\n",
    "    if list_proxs.index(min(list_proxs)) == j:\n",
    "        u[i][j] = 1\n",
    "    # If not smallest, assign u[i, j] = 0\n",
    "    else:\n",
    "        u[i][j] = 0"
   ]
  },
  {
   "cell_type": "code",
   "execution_count": 11,
   "metadata": {},
   "outputs": [],
   "source": [
    "def do_crisp_clust(X, M, n_iter, n_attempts, eps):\n",
    "    '''\n",
    "    Function that calculates the M clusters for the given data points by applying\n",
    "    crisp clustering. The clustering process is done in different attempts, each \n",
    "    attempt having a number of iterations. If the cost of the clustering does not \n",
    "    improve from one iteration to the next one, the iterations of the current attempt\n",
    "    are stopped and the algorithm goes to the next attempt. \n",
    "    \n",
    "    This function returns the clustering of each point (u), the thetas that have given \n",
    "    the best clustering and the evolution of the cost of the clustering. The best clustering\n",
    "    is returned (the clustering that have given the smallest cost).\n",
    "    '''\n",
    "    attempts = 0\n",
    "    N = X.shape[0]\n",
    "    # Initialize the thetas to 0\n",
    "    theta_M = np.zeros((M))\n",
    "    # Declare the variables that will hold the best clustering's results\n",
    "    best_theta_M = None\n",
    "    best_cost = sys.maxsize\n",
    "    best_cost_evolution = None\n",
    "    # Begin the iterations\n",
    "    while attempts < n_attempts:\n",
    "        # Initialize the list that will hold the cost evlution over the different iterations\n",
    "        cost_evolution = []\n",
    "        print(f\"\\nAttempt {attempts}\")\n",
    "        cost = sys.maxsize\n",
    "        # Initialize theta with random values. Theta holds a radian value. \n",
    "        for j in range(M):\n",
    "            theta_M[j] = math.radians(random.randint(0, 360))\n",
    "        # Initialize the matrix that will hold the clustering for each point\n",
    "        u = np.zeros((N, M))\n",
    "        # Compute the iterations of the attempt\n",
    "        for t in range(n_iter):\n",
    "            print(f\"        Iteration {t}\")\n",
    "            # Save the old cost to determine the improvement from this iteration \n",
    "            # in constrast to the previous iteration\n",
    "            old_cost = cost\n",
    "            # Add the cost to the cost evolution list\n",
    "            cost_evolution.append(cost)\n",
    "            # Compute the clusters for each point\n",
    "            for i in range(N):\n",
    "                for j in range(M):\n",
    "                    # Assign the cluster to point X based on the distance to each cluster\n",
    "                    assign_cluster_crisp(i, j, u, X, theta_M)\n",
    "            # Update the values for theta\n",
    "            for j in range(M):\n",
    "                theta_M[j] = compute_thetaj_crisp(u, j, X)\n",
    "            # Compute the cost of the created clusters \n",
    "            cost = compute_cost_crisp(X, u, theta_M)\n",
    "            print(\"             Cost:\", cost)\n",
    "            # If the improvement is not significant, continue with the next attempt\n",
    "            if np.abs(old_cost - cost) < eps:\n",
    "                break\n",
    "        # Check if this attempt has given the best results. If so, save the results of this attempt\n",
    "        if cost < best_cost:\n",
    "            best_cost = cost\n",
    "            best_theta_M = deepcopy(theta_M)\n",
    "            best_u = deepcopy(u)\n",
    "            best_cost_evolution = deepcopy(cost_evolution)\n",
    "        # Increase the number of attempts\n",
    "        attempts += 1\n",
    "    # Return u, theta and cost evolution of the best attempt\n",
    "    return best_u, best_theta_M, best_cost_evolution"
   ]
  },
  {
   "cell_type": "markdown",
   "metadata": {},
   "source": [
    "### **1.4. Clustering functions (Fuzzy clustering)** <a class=\"anchor\" id=\"first-fourth-bullet\"></a>"
   ]
  },
  {
   "cell_type": "markdown",
   "metadata": {},
   "source": [
    "The cost can be calulated by applying the next formula: \n",
    "\n",
    "$J(X;U,\\theta)= \\sum_{j =0}^N \\sum_{j =0}^M u_{ij}^q\\varphi(x_i, \\theta_j)$"
   ]
  },
  {
   "cell_type": "code",
   "execution_count": 12,
   "metadata": {},
   "outputs": [],
   "source": [
    "def compute_cost_fuzzy(q, X, u, theta_M):\n",
    "    '''\n",
    "    Function that calculates the M clusters for the given data points. The clustering\n",
    "    process is done in different attempts, each attempt having a number of iterations. \n",
    "    If the cost of the clustering does not improve from one iteration to the next one, \n",
    "    the iterations of the current attempt are stopped and the algorithm goes to the next \n",
    "    attempt. \n",
    "    \n",
    "    This function returns the clustering of each point (u), the thetas that have given \n",
    "    the best clustering and the evolution of the cost of the clustering. The best clustering\n",
    "    is returned (the clustering that have given the smallest cost).\n",
    "    '''\n",
    "    cost = 0\n",
    "    # For every data point\n",
    "    for i in range(X.shape[0]):\n",
    "        # For all clusters \n",
    "        for j in range(theta_M.shape[0]):\n",
    "            # Get the cost of the clustering made for point X[i]\n",
    "            prox = np.power(u[i][j], q) * proximity_function(X[i, 0], X[i, 1], theta_M[j])\n",
    "            cost = cost + prox\n",
    "    # Return the total cost\n",
    "    return cost"
   ]
  },
  {
   "cell_type": "markdown",
   "metadata": {},
   "source": [
    "The updated value of $\\theta(j)$ can be calculated with the next formula:\n",
    "\n",
    "$\\theta_j = \\frac{1}{2}\\tan^{-1}\\frac{2\\sum_{i = 1}^N u_{ij}^qx_{i1}x_{i2}}{\\sum_{i = 1}^N u_{ij}^q(x_{i1}^2 - x_{i2}^2)}$"
   ]
  },
  {
   "cell_type": "code",
   "execution_count": 13,
   "metadata": {},
   "outputs": [],
   "source": [
    "def compute_thetaj_fuzzy(q, u, j, X):\n",
    "    '''\n",
    "    Updates the values for the thetas of each cluster by looking at the clustering made.\n",
    "    '''\n",
    "    num = 0\n",
    "    den = 0\n",
    "    for i in range(0, X.shape[0]):\n",
    "        num = num + (np.power(u[i][j], q) * X[i, 0] * X[i, 1])\n",
    "        den = den + (np.power(u[i][j], q) * ((X[i, 0] ** 2) - (X[i, 1] ** 2)))\n",
    "\n",
    "    num *= 2\n",
    "\n",
    "    return 0.5 * math.atan2(num, den)"
   ]
  },
  {
   "cell_type": "code",
   "execution_count": 14,
   "metadata": {},
   "outputs": [],
   "source": [
    "def assign_cluster_fuzzy(q, i, j, u, X, theta_M):\n",
    "    '''\n",
    "    Assigns a cluster to a given data point by checking if the distance\n",
    "    to theta_j is the smallest out of all the distances to the clusters. \n",
    "    If a distance is equal to 0, assign the values of u in a distributed \n",
    "    manner in such a way that the sum of u[i] = 1.\n",
    "    '''\n",
    "    k_dist = 0\n",
    "    prox = proximity_function(X[i, 0], X[i, 1], theta_M[j])\n",
    "\n",
    "    prox_jk = []\n",
    "    # If distance of x to cluster j is 0, assign an equal value for all\n",
    "    # u[i].\n",
    "    if prox == 0:\n",
    "        u_value = 1 / len(theta_M)\n",
    "        for j_aux in range(X.shape[1]):\n",
    "            u[i][j_aux] = u_value\n",
    "    # If not 0\n",
    "    else:\n",
    "        # Variable that checks if distance was not 0.\n",
    "        compute_normal = True\n",
    "        # Calculate the proximity of X to all clusters \n",
    "        for k in range(len(theta_M)):\n",
    "            prox_k = proximity_function(X[i, 0], X[i, 1], theta_M[k])\n",
    "            # If any distance is 0, assign an equal value for all u[i]. \n",
    "            if prox_k == 0:\n",
    "                u_value = 1 / len(theta_M)\n",
    "                for j_aux in range(X.shape[1]):\n",
    "                    u[i][j_aux] = u_value\n",
    "                # Show that the values of u have been already assigned\n",
    "                compute_normal = False\n",
    "                break\n",
    "            # If not 0, append to the list of distances\n",
    "            else:\n",
    "                prox_jk.append(prox_k)\n",
    "                \n",
    "        # If no distance was 0, compute the values of u \n",
    "        if compute_normal:\n",
    "            exp = (1 / (q - 1))\n",
    "            res = 0\n",
    "            for c in range(len(prox_jk)):\n",
    "                res = res + (prox / prox_jk[c])\n",
    "            den = np.power(res, exp)\n",
    "            # Assign value for u[i, j]\n",
    "            u[i][j] = (1 / den)\n",
    "    # Return matrix of clustering\n",
    "    return u"
   ]
  },
  {
   "cell_type": "code",
   "execution_count": 15,
   "metadata": {},
   "outputs": [],
   "source": [
    "def do_fuzzy_clustering(X, M, n_iter, n_attempts, eps, q):\n",
    "    '''\n",
    "    Function that calculates the M clusters for the given data points by applying\n",
    "    fuzzy clustering. The clustering process is done in different attempts, each \n",
    "    attempt having a number of iterations. If the cost of the clustering does not \n",
    "    improve from one iteration to the next one, the iterations of the current attempt\n",
    "    are stopped and the algorithm goes to the next attempt. \n",
    "    \n",
    "    This function returns the clustering of each point (u), the thetas that have given \n",
    "    the best clustering and the evolution of the cost of the clustering. The best clustering\n",
    "    is returned (the clustering that have given the smallest cost).\n",
    "    '''\n",
    "    attempts = 0\n",
    "    N = X.shape[0]\n",
    "    # Initialize the thetas to 0\n",
    "    theta_M = np.zeros((M))\n",
    "    # Declare the variables that will hold the best clustering's results\n",
    "    best_theta_M = None\n",
    "    best_cost = sys.maxsize\n",
    "    best_cost_evolution = None\n",
    "    best_attempt = None\n",
    "    # Begin the iterations\n",
    "    while attempts < n_attempts:\n",
    "        # Initialize the list that will hold the cost evlution over the different iterations\n",
    "        cost_evolution = []\n",
    "        print(f\"\\nAttempt {attempts}\")\n",
    "        cost = sys.maxsize\n",
    "        # Initialize theta with random values. Theta holds a radian value. \n",
    "        for j in range(M):\n",
    "            theta_M[j] = math.radians(random.randint(0, 360))\n",
    "        # Initialize the matrix that will hold the clustering for each point\n",
    "        u = np.zeros((N, M))\n",
    "        # Compute the iterations of the attempt\n",
    "        for t in range(n_iter):\n",
    "            print(f\"        Iteration {t}\")\n",
    "            # Save the old cost to determine the improvement from this iteration \n",
    "            # in constrast to the previous iteration\n",
    "            old_cost = cost\n",
    "            # Add the cost to the cost evolution list\n",
    "            cost_evolution.append(cost)\n",
    "            # Compute the clusters for each point\n",
    "            for i in range(N):\n",
    "                for j in range(M):\n",
    "                    # Assign the cluster to point X based on the distance to each cluster\n",
    "                    u = assign_cluster_fuzzy(q, i, j, u, X, theta_M)\n",
    "            # Update the values for theta\n",
    "            for j in range(M):\n",
    "                theta_M[j] = compute_thetaj_fuzzy(q, u, j, X)\n",
    "            # Compute the cost of the created clusters \n",
    "            cost = compute_cost_fuzzy(q, X, u, theta_M)\n",
    "            print(\"             Cost:\", cost)\n",
    "            # If the improvement is not significant, continue with the next attempt\n",
    "            if np.abs(old_cost - cost) < eps:\n",
    "                break\n",
    "        # Check if this attempt has given the best results. If so, save the results of this attempt\n",
    "        if cost < best_cost:\n",
    "            best_cost = cost\n",
    "            best_theta_M = deepcopy(theta_M)\n",
    "            best_u = deepcopy(u)\n",
    "            best_cost_evolution = deepcopy(cost_evolution)\n",
    "            best_attempt = attempts\n",
    "        # Increase the number of attempts\n",
    "        attempts += 1\n",
    "    # Return u, theta and cost evolution of the best attempt\n",
    "    return best_u, best_theta_M, best_cost_evolution"
   ]
  },
  {
   "cell_type": "markdown",
   "metadata": {},
   "source": [
    "***"
   ]
  },
  {
   "cell_type": "markdown",
   "metadata": {},
   "source": [
    "## **2. Loading the data** <a class=\"anchor\" id=\"second-bullet\"></a>"
   ]
  },
  {
   "cell_type": "code",
   "execution_count": 16,
   "metadata": {},
   "outputs": [],
   "source": [
    "group = '10'\n",
    "ds = 3\n",
    "data = np.loadtxt(f'datasets-ulrn/datasets{group}/ds{group}{str(ds)}.txt')\n",
    "X = data[:, 0:2]\n",
    "y = data[:, 2:3]"
   ]
  },
  {
   "cell_type": "code",
   "execution_count": 17,
   "metadata": {},
   "outputs": [
    {
     "data": {
      "text/plain": [
       "300"
      ]
     },
     "execution_count": 17,
     "metadata": {},
     "output_type": "execute_result"
    }
   ],
   "source": [
    "X.shape[0]"
   ]
  },
  {
   "cell_type": "code",
   "execution_count": 18,
   "metadata": {},
   "outputs": [
    {
     "data": {
      "image/png": "[encoded data removed]",
      "text/plain": [
       "<Figure size 1080x720 with 1 Axes>"
      ]
     },
     "metadata": {
      "needs_background": "light"
     },
     "output_type": "display_data"
    }
   ],
   "source": [
    "scatter_plot(X, y, \"Original data points with their respective classes\", \"x\", \"y\")"
   ]
  },
  {
   "cell_type": "markdown",
   "metadata": {},
   "source": [
    "The data has **3 different clusters**. Notice however how some of data points of the clusters are overlapped. This may difficult the correct clustering of the algorithms that will be applied in the next sections. "
   ]
  },
  {
   "cell_type": "markdown",
   "metadata": {},
   "source": [
    "***"
   ]
  },
  {
   "cell_type": "markdown",
   "metadata": {},
   "source": [
    "## **3. Crisp Clustering** <a class=\"anchor\" id=\"third-bullet\"></a>"
   ]
  },
  {
   "cell_type": "markdown",
   "metadata": {},
   "source": [
    "### **3.1. Results** <a class=\"anchor\" id=\"third-first-bullet\"></a>"
   ]
  },
  {
   "cell_type": "code",
   "execution_count": 19,
   "metadata": {},
   "outputs": [
    {
     "name": "stdout",
     "output_type": "stream",
     "text": [
      "\n",
      "Attempt 0\n",
      "        Iteration 0\n",
      "             Cost: 536.4029990407726\n",
      "        Iteration 1\n",
      "             Cost: 533.2592688461114\n",
      "        Iteration 2\n",
      "             Cost: 184.28633089494582\n",
      "        Iteration 3\n",
      "             Cost: 22.50669631867157\n",
      "        Iteration 4\n",
      "             Cost: 22.45587307037521\n",
      "        Iteration 5\n",
      "             Cost: 22.45587307037521\n",
      "\n",
      "Attempt 1\n",
      "        Iteration 0\n",
      "             Cost: 536.5249060321031\n",
      "        Iteration 1\n",
      "             Cost: 533.2592688461114\n",
      "        Iteration 2\n",
      "             Cost: 184.28633089494582\n",
      "        Iteration 3\n",
      "             Cost: 22.50669631867157\n",
      "        Iteration 4\n",
      "             Cost: 22.45587307037521\n",
      "        Iteration 5\n",
      "             Cost: 22.45587307037521\n",
      "\n",
      "Attempt 2\n",
      "        Iteration 0\n",
      "             Cost: 50.76684073706322\n",
      "        Iteration 1\n",
      "             Cost: 22.45587307037521\n",
      "        Iteration 2\n",
      "             Cost: 22.45587307037521\n",
      "\n",
      "Attempt 3\n",
      "        Iteration 0\n",
      "             Cost: 637.4247190262957\n",
      "        Iteration 1\n",
      "             Cost: 187.68057144263747\n",
      "        Iteration 2\n",
      "             Cost: 22.50669631867157\n",
      "        Iteration 3\n",
      "             Cost: 22.45587307037521\n",
      "        Iteration 4\n",
      "             Cost: 22.45587307037521\n",
      "\n",
      "Attempt 4\n",
      "        Iteration 0\n",
      "             Cost: 22.45587307037521\n",
      "        Iteration 1\n",
      "             Cost: 22.45587307037521\n",
      "\n",
      "Attempt 5\n",
      "        Iteration 0\n",
      "             Cost: 295.7473805026227\n",
      "        Iteration 1\n",
      "             Cost: 22.482591435006988\n",
      "        Iteration 2\n",
      "             Cost: 22.45587307037521\n",
      "        Iteration 3\n",
      "             Cost: 22.45587307037521\n",
      "\n",
      "Attempt 6\n",
      "        Iteration 0\n",
      "             Cost: 537.0197204767397\n",
      "        Iteration 1\n",
      "             Cost: 519.0153590673825\n",
      "        Iteration 2\n",
      "             Cost: 39.29515856492459\n",
      "        Iteration 3\n",
      "             Cost: 22.473907349734542\n",
      "        Iteration 4\n",
      "             Cost: 22.45587307037521\n",
      "        Iteration 5\n",
      "             Cost: 22.45587307037521\n",
      "\n",
      "Attempt 7\n",
      "        Iteration 0\n",
      "             Cost: 537.0992207160866\n",
      "        Iteration 1\n",
      "             Cost: 536.4383202473883\n",
      "        Iteration 2\n",
      "             Cost: 534.9904633655638\n",
      "        Iteration 3\n",
      "             Cost: 278.61687169811637\n",
      "        Iteration 4\n",
      "             Cost: 22.687200944981157\n",
      "        Iteration 5\n",
      "             Cost: 22.45587307037521\n",
      "        Iteration 6\n",
      "             Cost: 22.45587307037521\n",
      "\n",
      "Attempt 8\n",
      "        Iteration 0\n",
      "             Cost: 525.6630149904274\n",
      "        Iteration 1\n",
      "             Cost: 50.78969992650548\n",
      "        Iteration 2\n",
      "             Cost: 22.45587307037521\n",
      "        Iteration 3\n",
      "             Cost: 22.45587307037521\n",
      "\n",
      "Attempt 9\n",
      "        Iteration 0\n",
      "             Cost: 77.34679539434882\n",
      "        Iteration 1\n",
      "             Cost: 22.45587307037521\n",
      "        Iteration 2\n",
      "             Cost: 22.45587307037521\n"
     ]
    }
   ],
   "source": [
    "mode = \"Crisp\"\n",
    "M = 3\n",
    "n_attempts = 10\n",
    "n_iter = 100\n",
    "eps = 0.001\n",
    "u, theta_M, cost_evolution = do_crisp_clust(X, M, n_iter, n_attempts, eps)"
   ]
  },
  {
   "cell_type": "code",
   "execution_count": 20,
   "metadata": {},
   "outputs": [
    {
     "name": "stdout",
     "output_type": "stream",
     "text": [
      "θ (Crisp): [ 1.43959494 -0.81827823  0.91448639]\n"
     ]
    }
   ],
   "source": [
    "print(f\"θ ({mode}): {theta_M}\")"
   ]
  },
  {
   "cell_type": "markdown",
   "metadata": {},
   "source": [
    "### **3.2. Predicted clusters** <a class=\"anchor\" id=\"third-second-bullet\"></a>"
   ]
  },
  {
   "cell_type": "code",
   "execution_count": 21,
   "metadata": {},
   "outputs": [
    {
     "data": {
      "image/png": "[encoded data removed]",
      "text/plain": [
       "<Figure size 1080x720 with 1 Axes>"
      ]
     },
     "metadata": {
      "needs_background": "light"
     },
     "output_type": "display_data"
    }
   ],
   "source": [
    "y_pred = np.zeros((len(u)))\n",
    "for i in range(len(u)):\n",
    "    if u[i][0] == 1.0:\n",
    "        y_pred[i] = 0\n",
    "    elif u[i][1] == 1.0:\n",
    "        y_pred[i] = 1\n",
    "    else:\n",
    "        y_pred[i] = 2\n",
    "y_pred = np.reshape(y_pred, (-1, 1))\n",
    "plot_predicted_clusters(X, y_pred, u, mode)"
   ]
  },
  {
   "cell_type": "markdown",
   "metadata": {},
   "source": [
    "We can see that the crisp clustering has classified correctly almost all the data points, aside from 12 points (in the region where the three clusters overlap) that have been missclassified. "
   ]
  },
  {
   "cell_type": "markdown",
   "metadata": {},
   "source": [
    "### **3.3. Cost evolution** <a class=\"anchor\" id=\"third-third-bullet\"></a>"
   ]
  },
  {
   "cell_type": "code",
   "execution_count": 22,
   "metadata": {},
   "outputs": [
    {
     "data": {
      "image/png": "[encoded data removed]",
      "text/plain": [
       "<Figure size 1080x720 with 1 Axes>"
      ]
     },
     "metadata": {
      "needs_background": "light"
     },
     "output_type": "display_data"
    }
   ],
   "source": [
    "cost_evolution.pop(0)\n",
    "plot_cost(cost_evolution, mode)"
   ]
  },
  {
   "cell_type": "markdown",
   "metadata": {},
   "source": [
    "The cost evolution decreases rapidly in the first iterations but converge to a local minimum in the last two iterations. The cost has not reached the 0 value, as we have seen that we have missclassified 12 points. "
   ]
  },
  {
   "cell_type": "code",
   "execution_count": 23,
   "metadata": {},
   "outputs": [
    {
     "name": "stdout",
     "output_type": "stream",
     "text": [
      "V-Measure: 0.8432772039086082\n",
      "Contingency matrix:\n",
      "[[  1   2  97]\n",
      " [ 91   3   6]\n",
      " [  0 100   0]]\n"
     ]
    }
   ],
   "source": [
    "get_measures_cluster(y, y_pred)"
   ]
  },
  {
   "cell_type": "markdown",
   "metadata": {},
   "source": [
    "We can see that from the contingency matrix we have missclassified 12 points, those that have been plotted in the previous graph."
   ]
  },
  {
   "cell_type": "markdown",
   "metadata": {},
   "source": [
    "***"
   ]
  },
  {
   "cell_type": "markdown",
   "metadata": {},
   "source": [
    "## **4. Fuzzy Clustering** <a class=\"anchor\" id=\"fourth-bullet\"></a>"
   ]
  },
  {
   "cell_type": "markdown",
   "metadata": {},
   "source": [
    "### **4.1. Results** <a class=\"anchor\" id=\"fourth-first-bullet\"></a>"
   ]
  },
  {
   "cell_type": "code",
   "execution_count": 24,
   "metadata": {},
   "outputs": [
    {
     "name": "stdout",
     "output_type": "stream",
     "text": [
      "\n",
      "Attempt 0\n",
      "        Iteration 0\n",
      "             Cost: 45.427777158800964\n",
      "        Iteration 1\n",
      "             Cost: 21.13913422769157\n",
      "        Iteration 2\n",
      "             Cost: 21.086394048570288\n",
      "        Iteration 3\n",
      "             Cost: 21.086279246208825\n",
      "\n",
      "Attempt 1\n",
      "        Iteration 0\n",
      "             Cost: 667.4661574038574\n",
      "        Iteration 1\n",
      "             Cost: 88.6796426792622\n",
      "        Iteration 2\n",
      "             Cost: 21.265975643057796\n",
      "        Iteration 3\n",
      "             Cost: 21.08656679929266\n",
      "        Iteration 4\n",
      "             Cost: 21.08627954642639\n",
      "\n",
      "Attempt 2\n",
      "        Iteration 0\n",
      "             Cost: 751.1612335653949\n",
      "        Iteration 1\n",
      "             Cost: 445.76831832995555\n",
      "        Iteration 2\n",
      "             Cost: 258.352509534424\n",
      "        Iteration 3\n",
      "             Cost: 245.92417980346258\n",
      "        Iteration 4\n",
      "             Cost: 131.67235303000248\n",
      "        Iteration 5\n",
      "             Cost: 22.346974030906498\n",
      "        Iteration 6\n",
      "             Cost: 21.087812067066633\n",
      "        Iteration 7\n",
      "             Cost: 21.086281311272987\n",
      "        Iteration 8\n",
      "             Cost: 21.08627899297547\n",
      "\n",
      "Attempt 3\n",
      "        Iteration 0\n",
      "             Cost: 236.50272395009296\n",
      "        Iteration 1\n",
      "             Cost: 21.63183930147475\n",
      "        Iteration 2\n",
      "             Cost: 21.087007407015246\n",
      "        Iteration 3\n",
      "             Cost: 21.08628038418139\n",
      "\n",
      "Attempt 4\n",
      "        Iteration 0\n",
      "             Cost: 318.5969459622068\n",
      "        Iteration 1\n",
      "             Cost: 25.292211876480806\n",
      "        Iteration 2\n",
      "             Cost: 21.08994688029028\n",
      "        Iteration 3\n",
      "             Cost: 21.086286590209024\n",
      "        Iteration 4\n",
      "             Cost: 21.08627900540203\n",
      "\n",
      "Attempt 5\n",
      "        Iteration 0\n",
      "             Cost: 880.3724613602062\n",
      "        Iteration 1\n",
      "             Cost: 264.2392658311508\n",
      "        Iteration 2\n",
      "             Cost: 250.87906770755973\n",
      "        Iteration 3\n",
      "             Cost: 169.29593109981815\n",
      "        Iteration 4\n",
      "             Cost: 25.613476132503948\n",
      "        Iteration 5\n",
      "             Cost: 21.09127999938038\n",
      "        Iteration 6\n",
      "             Cost: 21.086286383783648\n",
      "        Iteration 7\n",
      "             Cost: 21.086279001201554\n",
      "\n",
      "Attempt 6\n",
      "        Iteration 0\n",
      "             Cost: 816.0461843760005\n",
      "        Iteration 1\n",
      "             Cost: 496.5881939952666\n",
      "        Iteration 2\n",
      "             Cost: 42.88076124607399\n",
      "        Iteration 3\n",
      "             Cost: 21.09272670309999\n",
      "        Iteration 4\n",
      "             Cost: 21.086291147063566\n",
      "        Iteration 5\n",
      "             Cost: 21.086279015232318\n",
      "\n",
      "Attempt 7\n",
      "        Iteration 0\n",
      "             Cost: 425.63138350731646\n",
      "        Iteration 1\n",
      "             Cost: 69.76871670414175\n",
      "        Iteration 2\n",
      "             Cost: 21.141028212068175\n",
      "        Iteration 3\n",
      "             Cost: 21.086341546643766\n",
      "        Iteration 4\n",
      "             Cost: 21.086279062261703\n",
      "\n",
      "Attempt 8\n",
      "        Iteration 0\n",
      "             Cost: 589.522336386255\n",
      "        Iteration 1\n",
      "             Cost: 28.812518029489738\n",
      "        Iteration 2\n",
      "             Cost: 21.08912993895169\n",
      "        Iteration 3\n",
      "             Cost: 21.08628415239221\n",
      "        Iteration 4\n",
      "             Cost: 21.086279000112576\n",
      "\n",
      "Attempt 9\n",
      "        Iteration 0\n",
      "             Cost: 751.4453021645196\n",
      "        Iteration 1\n",
      "             Cost: 495.5886444572304\n",
      "        Iteration 2\n",
      "             Cost: 451.6788481820713\n",
      "        Iteration 3\n",
      "             Cost: 434.4622129358923\n",
      "        Iteration 4\n",
      "             Cost: 427.14383600790745\n",
      "        Iteration 5\n",
      "             Cost: 424.0540019123346\n",
      "        Iteration 6\n",
      "             Cost: 422.7715004139574\n",
      "        Iteration 7\n",
      "             Cost: 422.246153868885\n",
      "        Iteration 8\n",
      "             Cost: 422.0327777349075\n",
      "        Iteration 9\n",
      "             Cost: 421.9465609862975\n",
      "        Iteration 10\n",
      "             Cost: 421.91183372741256\n",
      "        Iteration 11\n",
      "             Cost: 421.8978727653213\n",
      "        Iteration 12\n",
      "             Cost: 421.8922668487024\n",
      "        Iteration 13\n",
      "             Cost: 421.8900174881697\n",
      "        Iteration 14\n",
      "             Cost: 421.88911535159656\n"
     ]
    }
   ],
   "source": [
    "mode = \"Fuzzy\"\n",
    "q = 2\n",
    "u, theta_M, cost_evolution = do_fuzzy_clustering(X, M, n_iter, n_attempts, eps, q)"
   ]
  },
  {
   "cell_type": "code",
   "execution_count": 25,
   "metadata": {},
   "outputs": [
    {
     "name": "stdout",
     "output_type": "stream",
     "text": [
      "θ (Fuzzy): [ 0.91451424 -0.81806192  1.4402725 ]\n"
     ]
    }
   ],
   "source": [
    "print(f\"θ ({mode}): {theta_M}\")"
   ]
  },
  {
   "cell_type": "markdown",
   "metadata": {},
   "source": [
    "### **4.2. Predicted clusters** <a class=\"anchor\" id=\"fourth-second-bullet\"></a>"
   ]
  },
  {
   "cell_type": "code",
   "execution_count": 26,
   "metadata": {},
   "outputs": [
    {
     "data": {
      "image/png": "[encoded data removed]",
      "text/plain": [
       "<Figure size 1080x720 with 1 Axes>"
      ]
     },
     "metadata": {
      "needs_background": "light"
     },
     "output_type": "display_data"
    }
   ],
   "source": [
    "y_pred = np.zeros((len(u)))\n",
    "for i in range(len(u)):\n",
    "    y_pred[i] = np.argmax(u[i])\n",
    "y_pred = np.reshape(y_pred, (-1, 1))\n",
    "plot_predicted_clusters(X, np.array(y_pred), u, mode)"
   ]
  },
  {
   "cell_type": "markdown",
   "metadata": {},
   "source": [
    "Just as with the crisp clustering, the fuzzy clustering has managed to classify correctly almost all data points but has missclassified the 12 points in the overlapped region."
   ]
  },
  {
   "cell_type": "markdown",
   "metadata": {},
   "source": [
    "### **4.3. Cost evolution** <a class=\"anchor\" id=\"fourth-third-bullet\"></a>"
   ]
  },
  {
   "cell_type": "code",
   "execution_count": 27,
   "metadata": {},
   "outputs": [
    {
     "data": {
      "image/png": "[encoded data removed]",
      "text/plain": [
       "<Figure size 1080x720 with 1 Axes>"
      ]
     },
     "metadata": {
      "needs_background": "light"
     },
     "output_type": "display_data"
    }
   ],
   "source": [
    "cost_evolution.pop(0)\n",
    "plot_cost(cost_evolution, mode)"
   ]
  },
  {
   "cell_type": "markdown",
   "metadata": {},
   "source": [
    "We can see that the cost evolution has converged in more iterations than the crisp clustering."
   ]
  },
  {
   "cell_type": "code",
   "execution_count": 28,
   "metadata": {},
   "outputs": [
    {
     "name": "stdout",
     "output_type": "stream",
     "text": [
      "V-Measure: 0.8432772039086082\n",
      "Contingency matrix:\n",
      "[[ 97   2   1]\n",
      " [  6   3  91]\n",
      " [  0 100   0]]\n"
     ]
    }
   ],
   "source": [
    "get_measures_cluster(y, y_pred)"
   ]
  },
  {
   "cell_type": "markdown",
   "metadata": {},
   "source": [
    "We can see that from the contingency matrix we have missclassified 12 points, those that have been plotted in the previous graph."
   ]
  }
 ],
 "metadata": {
  "kernelspec": {
   "display_name": "aaa-uib",
   "language": "python",
   "name": "aaa-uib"
  },
  "language_info": {
   "codemirror_mode": {
    "name": "ipython",
    "version": 3
   },
   "file_extension": ".py",
   "mimetype": "text/x-python",
   "name": "python",
   "nbconvert_exporter": "python",
   "pygments_lexer": "ipython3",
   "version": "3.8.5"
  }
 },
 "nbformat": 4,
 "nbformat_minor": 4
}
